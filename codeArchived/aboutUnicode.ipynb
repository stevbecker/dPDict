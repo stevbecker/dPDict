{
 "metadata": {
  "name": ""
 },
 "nbformat": 3,
 "nbformat_minor": 0,
 "worksheets": [
  {
   "cells": [
    {
     "cell_type": "code",
     "collapsed": false,
     "input": [
      "import json\n",
      "\n",
      "j = {\"d\":\"\u4e2d\", \"e\":\"a\"}\n",
      "jout = json.dumps(j, encoding=\"utf-8\")\n",
      "\n",
      "print jout"
     ],
     "language": "python",
     "metadata": {},
     "outputs": [
      {
       "output_type": "stream",
       "stream": "stdout",
       "text": [
        "{\"e\": \"a\", \"d\": \"\\u4e2d\"}\n"
       ]
      }
     ],
     "prompt_number": 1
    },
    {
     "cell_type": "code",
     "collapsed": false,
     "input": [
      "import sys\n",
      "print sys.getdefaultencoding()"
     ],
     "language": "python",
     "metadata": {},
     "outputs": [
      {
       "output_type": "stream",
       "stream": "stdout",
       "text": [
        "ascii\n"
       ]
      }
     ],
     "prompt_number": 15
    },
    {
     "cell_type": "code",
     "collapsed": false,
     "input": [
      "json_string = json.dumps(u\"Ith\u00e1\u00b7ki \u02c8\u0101-br\u0259-\u02ccham ca\u00b7f\u00e9\", ensure_ascii=False).encode('utf8')\n",
      "json_string\n",
      "print json_string"
     ],
     "language": "python",
     "metadata": {},
     "outputs": [
      {
       "output_type": "stream",
       "stream": "stdout",
       "text": [
        "\"Ith\u00e1\u00b7ki \u02c8\u0101-br\u0259-\u02ccham ca\u00b7f\u00e9\"\n"
       ]
      }
     ],
     "prompt_number": 16
    },
    {
     "cell_type": "code",
     "collapsed": false,
     "input": [
      "fw = json.dumps(\"caf\\u00e9\", ensure_ascii=False).encode('utf8')\n",
      "print fw\n"
     ],
     "language": "python",
     "metadata": {},
     "outputs": [
      {
       "output_type": "stream",
       "stream": "stdout",
       "text": [
        "\"caf\\\\u00e9\"\n"
       ]
      }
     ],
     "prompt_number": 19
    },
    {
     "cell_type": "code",
     "collapsed": false,
     "input": [],
     "language": "python",
     "metadata": {},
     "outputs": []
    }
   ],
   "metadata": {}
  }
 ]
}