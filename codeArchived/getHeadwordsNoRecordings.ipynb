{
 "metadata": {
  "name": ""
 },
 "nbformat": 3,
 "nbformat_minor": 0,
 "worksheets": [
  {
   "cells": [
    {
     "cell_type": "code",
     "collapsed": false,
     "input": [
      "#move recordings of headwords from downloaded recordings to another directory.\n",
      "#I downloaded 16055 recordings from M-W until 2014-08-28.\n",
      "#Check word by word from 39111Words.txt (headwords list) to see if it is in the 16055. If so, move it to another directory\n",
      "#For headwords not in the 16055, I'll download their recordings from M-W by their new API.\n",
      "\n",
      "\n",
      "import os\n",
      "from os import listdir\n",
      "from os.path import isfile, join\n",
      "import shutil\n",
      "\n",
      "'''In Python, what is the fastest algorithm for removing duplicates from a list so that all elements are unique \n",
      "*while preserving order*?\n",
      "'''\n",
      "def getUnique(seq):\n",
      "    seen = set()\n",
      "    seen_add = seen.add\n",
      "    return [ x for x in seq if not (x in seen or seen_add(x))]\n",
      "\n",
      "\n",
      "mypath = os.getcwd() + '\\\\recExisting'\n",
      "print mypath\n",
      "existingRec = [ f.split('.wav')[0] for f in os.listdir(mypath) if isfile(join(mypath,f)) ]\n",
      "\n",
      "\n",
      "fwordlist = open('39111Words.txt', 'r')\n",
      "fwordNoRec = open('wordsNoRec.txt', 'w')\n",
      "#set() to remove duplicates, but it destroys the original order\n",
      "#fw = set(fwordlist)\n",
      "fw = getUnique(fwordlist)\n",
      "#34315 unique words in 39111Words.txt\n",
      "#print fw.__len__()\n",
      "\n",
      "cntRec = 0\n",
      "cntNoRec = 0\n",
      "for line in fw:\n",
      "    #line.strip() removes '\\n'\n",
      "    word = line.strip()\n",
      "    if word in existingRec:\n",
      "        #print word\n",
      "        shutil.move(mypath+'\\\\'+word+'.wav', \"recHeadwords\\\\\")\n",
      "        cntRec += 1\n",
      "    else:\n",
      "        cntNoRec += 1\n",
      "        fwordNoRec.write(line)\n",
      "\n",
      "fwordlist.close()\n",
      "fwordNoRec.close()\n",
      "\n",
      "print cntRec\n",
      "print cntNoRec\n",
      "    "
     ],
     "language": "python",
     "metadata": {},
     "outputs": [
      {
       "output_type": "stream",
       "stream": "stdout",
       "text": [
        "E:\\_dPDict\\processDict\\recExisting\n",
        "13405"
       ]
      },
      {
       "output_type": "stream",
       "stream": "stdout",
       "text": [
        "\n",
        "20910\n"
       ]
      }
     ],
     "prompt_number": 42
    },
    {
     "cell_type": "code",
     "collapsed": false,
     "input": [],
     "language": "python",
     "metadata": {},
     "outputs": []
    }
   ],
   "metadata": {}
  }
 ]
}