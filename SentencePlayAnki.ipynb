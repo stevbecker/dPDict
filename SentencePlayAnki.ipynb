{
 "cells": [
  {
   "cell_type": "code",
   "execution_count": 4,
   "metadata": {
    "collapsed": false
   },
   "outputs": [
    {
     "name": "stdout",
     "output_type": "stream",
     "text": [
      "---------con-----------\n",
      "---------con-----------\n",
      "---------con-----------\n",
      "---------con-----------\n",
      "---------con-----------\n",
      "---------con-----------\n",
      "total head words:  39195\n"
     ]
    }
   ],
   "source": [
    "\n",
    "# for sentence play in Anki\n",
    "# initial date: 2015-11-20\n",
    "\n",
    "import pymongo\n",
    "from pymongo import MongoClient\n",
    "\n",
    "# codecs if for read and write files with unicode, encoding 'utf-8'\n",
    "import codecs\n",
    "import re\n",
    "\n",
    "#connect to MongoDB\n",
    "client = MongoClient('localhost', 27017)\n",
    "db = client.dpdb  # databas: dpdb\n",
    "geweiDict = db.geweiDict201511 # collection (table): geweiDict201511\n",
    "#geweiDict = db.geweiDictTest\n",
    "\n",
    "fdict = codecs.open('E:\\\\1Now\\\\mae\\\\sentencePlayAnki.txt', 'w', 'utf-8')\n",
    "\n",
    "# read list of words with images [captions] into imglist\n",
    "with codecs.open('E:\\\\1Now\\\\taglist\\\\mwlDailyImg20141124_20151205.txt', 'r', 'utf-8') as f:\n",
    "    imglist = f.read().splitlines() # strip '\\n'\n",
    "#     f.close() # not necessary with with statement\n",
    "imginhw = [] # track which images match head words\n",
    "\n",
    "# tag word lists\n",
    "tfiles = ['acaWriting.txt', 'airTravel.txt', 'bodyPart.txt', 'campus.txt', 'economics.txt', 'emotion.txt', \n",
    "          'employment.txt', 'environment.txt', 'family.txt', 'health.txt', 'job.txt', 'legal.txt', \n",
    "          'nonCount.txt', 'personality.txt', 'sports.txt', 'timeAdv.txt', 'timePeriod.txt', 'weather.txt',\n",
    "          'core31only.txt', 'tg.txt']\n",
    "topics = []\n",
    "for tfile in tfiles:\n",
    "    topic = {}\n",
    "    with codecs.open('E:\\\\1Now\\\\taglist\\\\' + tfile, 'r', 'utf-8') as f:\n",
    "        twords = f.read().splitlines()\n",
    "        f.close()\n",
    "    topic['words'] = twords\n",
    "    topic['topic'] = tfile.split('.')[0]\n",
    "    topics.append(topic)\n",
    "    \n",
    "\n",
    "# read TOEFL/GRE word list\n",
    "# with codecs.open('E:\\\\1Now\\\\mae\\\\tginmwaled.txt', 'r', 'utf-8') as f:\n",
    "#     tgwl = f.read().splitlines() # strip '\\n'\n",
    "#     f.close()\n",
    "\n",
    "#results = geweiDict.find({\"fr\":\"y\"}, {\"_id\":0, \"hw\":1, \"infl\":1, \"subhw\":1, \"prn\":1, \"alles\":1, \n",
    "#                              \"idpvs\":1, \"sublist\":1, \"audiofile\":1, \"alles\":1})\n",
    "results = geweiDict.find({}, {\"_id\":0, \"hw\":1, \"infl\":1, \"subhw\":1, \"prn\":1, \"alles\":1, \"img\":1,\n",
    "                              \"idpvs\":1, \"sublist\":1, \"homog\":1, \"alles\":1, \"tag\":1, \"label\":1}) #.limit(1000)\n",
    "# sort method will use much more memory\n",
    "#results = geweiDict.find({}, {\"_id\":0, \"hw\":1, \"prn\":1, \"alles\":1, \"idpvs\":1, \"sublist\":1}).sort(\"hw\", 1).limit(1000)\n",
    "\n",
    "# total number of head words\n",
    "totalhw = 0\n",
    "\n",
    "# threshold of the length of definition\n",
    "defthres = 12\n",
    "\n",
    "# Produce Anki note fields and tags:\n",
    "for result in results:\n",
    "    \n",
    "    word = result.get(\"hw\")    \n",
    "    if word:\n",
    "        #print word\n",
    "        totalhw += 1\n",
    "    else:\n",
    "        print \"no head word\"\n",
    "        continue\n",
    "\n",
    "    \n",
    "    # get items of result\n",
    "    tagindb = result.get('tag')\n",
    "    label = result.get('label')\n",
    "    \n",
    "    infls = result.get(\"infl\")\n",
    "    subhws = result.get(\"subhw\")   \n",
    "    imgindb = result.get(\"img\")\n",
    "    \n",
    "#     homograph = 0\n",
    "    homog = result.get(\"homog\")\n",
    "    \n",
    "    idpvs = result.get(\"idpvs\")\n",
    "    sublists = result.get(\"sublist\") #sublists is a list whose items are dictionary\n",
    "    \n",
    "#     fr = result.get(\"fr\")\n",
    "\n",
    "#     alles = result.get(\"alles\")        \n",
    "#     if alles: totales = len(alles)\n",
    "#     else: totales=0\n",
    "        \n",
    "#     if totales >= 100: nes = \"100+\"\n",
    "#     elif totales >= 50: nes = \"50-99\"\n",
    "#     elif totales >= 10: nes = \"10-49\"\n",
    "#     elif totales >=  3: nes = \"3-9\"\n",
    "#     elif totales >=  2: nes = \"2\"\n",
    "#     elif totales >=  1: nes = \"1\"\n",
    "#     else: nes = \"0\"\n",
    "        \n",
    "    \n",
    "    if sublists:\n",
    "        cnt = 1\n",
    "        idiom = 0\n",
    "        \n",
    "        # each \"es\" or \"idpv\" of sublist in sublists will be an Anki note\n",
    "        for sublist in sublists: #sublist is dictionary        \n",
    "            \n",
    "            # 9 fields with tags: PlaySent,def,Wow,prn,hw,audio,footnote,img,caption   tags\n",
    "            \n",
    "            # Anki note field #1: PlaySent (incomplete example sentences for cloze test)\n",
    "            # PlaySent must be the first field because codes for it include continue statement which\n",
    "            # may not create a note for this loop.\n",
    "            if sublist.has_key(\"es\"):                \n",
    "                # no example sentence but have definition, write head word to PlaySent field\n",
    "                if len(sublist[\"es\"]) == 0 and len(sublist[\"defi\"]) >= defthres:\n",
    "                    #print defthres, \" --- \", word                    \n",
    "                    fdict.write(word)\n",
    "                # this es is empty and \"def\" is not a definition, discard this fake definition\n",
    "                elif len(sublist[\"es\"]) == 0 and len(sublist[\"defi\"]) < defthres:\n",
    "                    #print word, \": empyt example and not a defintion\"\n",
    "                    continue                    \n",
    "                else:\n",
    "                    for sPlay in sublist[\"es\"]:                    \n",
    "                        #sPlay = es.encode('ascii', 'ignore').replace(word, \"___\")                        \n",
    "                        #sPlay = es\n",
    "                        insensitive_replace = re.compile(re.escape(word), re.IGNORECASE)\n",
    "                        sPlay = insensitive_replace.sub('___', sPlay)\n",
    "                        \n",
    "                        if infls:\n",
    "                            for infl in infls:\n",
    "                                sPlay = sPlay.replace(infl, \"...\")\n",
    "                        if subhws:\n",
    "                            for subhw in subhws:\n",
    "                                sPlay = sPlay.replace(subhw, \"???\")\n",
    "                        fdict.write(str(cnt) + '<font color=\"blue\">-es: </font>' + sPlay + \"<br>\")\n",
    "                    \n",
    "            if sublist.has_key(\"idpv\"):\n",
    "                if len(sublist[\"idpv\"]) == 0:\n",
    "                    #print word, \": empyt idpv\"\n",
    "                    continue\n",
    "                #sPlay = sublist[\"idpv\"].encode('ascii', 'ignore').replace(word, \"___\")\n",
    "                #sPlay = sublist[\"idpv\"].encode('ascii', 'ignore')\n",
    "                sPlay = sublist[\"idpv\"]\n",
    "                sPlay = re.sub(r'\\s+(?=\\d)', '<br><br>', sPlay) # replace the space before a number with '<br><br>'\n",
    "                \n",
    "                insensitive_replace = re.compile(re.escape(word), re.IGNORECASE)\n",
    "                sPlay = insensitive_replace.sub('___', sPlay)\n",
    "                if sPlay.find(\":\") >= 0: idiom = 1\n",
    "                \n",
    "                if infls:\n",
    "                    for infl in infls:\n",
    "                        sPlay = sPlay.replace(infl, \"...\")\n",
    "                if subhws:\n",
    "                    for subhw in subhws:\n",
    "                        sPlay = sPlay.replace(subhw, \"???\")\n",
    "                fdict.write('<font color=\"blue\">*idpv*</font> ' + sPlay + \"<br>\")\n",
    "            #if cnt%1 == 0: fdict.write('<br>')\n",
    "            fdict.write(\" \\t\")               \n",
    "            \n",
    "\n",
    "            # Anki note field: definition\n",
    "            if sublist.has_key(\"defi\"):                \n",
    "                #fdict.write(str(cnt) + '-def: ' + sublist[\"def\"].encode('ascii', 'ignore') + \"<br><br>\")\n",
    "                fdict.write(str(cnt) + '-def: ' + sublist[\"defi\"] + \"<br><br>\")            \n",
    "            fdict.write(\" \\t\")\n",
    "                \n",
    "            # Anki note field: Wow (complete example sentences)\n",
    "            if sublist.has_key(\"es\"):  \n",
    "                for es in sublist[\"es\"]:\n",
    "                    fdict.write(str(cnt) + '<font color=\"red\">-es: </font>' + \n",
    "                                es + \"<br>\")                \n",
    "                                #es.encode('ascii', 'ignore') + \"<br>\")                \n",
    "            if sublist.has_key(\"idpv\"):                \n",
    "                fdict.write('<font color=\"red\">*idpv*</font> ' + \n",
    "                            re.sub(r'\\s+(?=\\d)', '<br><br>', sublist[\"idpv\"]) + \"<br>\")\n",
    "                            #sublist[\"idpv\"].encode('ascii', 'ignore') + \"<br>\")\n",
    "            #if cnt%1 == 0: fdict.write('<br>') \n",
    "            fdict.write(\" \\t\")\n",
    "            \n",
    "       \n",
    "            \n",
    "            # Anki note field: Pronunciation in ASCII IPA symbols\n",
    "            prns = result.get(\"prn\")\n",
    "            if prns:\n",
    "                for prn in prns:\n",
    "                    fdict.write(\"/\" + prn + \"/<br>\")\n",
    "            fdict.write(\" \\t\")  # add one space before tab to separate tabs in case a field is empty.     \n",
    "            \n",
    "            # Anki note field: head word\n",
    "            fdict.write(word + \"\\t\")     \n",
    "            \n",
    "            \n",
    "            # Anki note field: Audio    \n",
    "            if homog:\n",
    "                fdict.write(\"[sound:\" + homog + \".wav]\")\n",
    "#                 homograph = 1                \n",
    "            elif word == 'con':                    \n",
    "                # con is a key word of Windows, a filename as 'con.wav' is not allowed, so use 'con1.wav'                \n",
    "                print \"---------con-----------\"\n",
    "                fdict.write(\"[sound:con1.wav]\")                   \n",
    "            else: \n",
    "                fdict.write(\"[sound:\" + word + \".wav]\")\n",
    "                    \n",
    "            if subhws:\n",
    "                for subhw in subhws:\n",
    "                    #fdict.write(\"<br>[sound:\" + subhw.encode('ascii', 'ignore') + \".wav]\")\n",
    "                    fdict.write(\"<br>[sound:\" + subhw + \".wav]\")\n",
    "            fdict.write(\" \\t\")    \n",
    "\n",
    "            \n",
    "            # make tags \n",
    "            tags = ''\n",
    "            if tagindb:\n",
    "                for tag in tagindb:\n",
    "                    tags += ' ' + tag\n",
    "            for topic in topics:\n",
    "                if word in topic['words']: tags += ' ' + topic['topic']\n",
    "                    \n",
    "            if label:\n",
    "                if 'slang' in label: tags += ' slang'\n",
    "                if 'baseball' in label: tags += ' baseball'\n",
    "                if 'sports' in label: tags += ' sports+' # beyond core sports.txt\n",
    "                \n",
    "            if idiom == 1: tags += \" idiom\"\n",
    "#             if fr: tags += \" fr\" # Foreign word (French, Mexican Spanish)       \n",
    "#             if homograph == 1 and word != 'con' : tags += \" homog\" # homog -- homograph\n",
    "#             if word in tgwl: tags += ' tg'\n",
    "#             tags += \" es\" + nes # level of a word by the number of examples\n",
    "            \n",
    "            \n",
    "            # Anki note field: Footnote            \n",
    "            fdict.write(\"<br><br>{\" + tags + \"}<br><br>\\t\")\n",
    "            \n",
    "            # Anki note fields: Image and Caption\n",
    "            img = ' '\n",
    "            caption = ' '\n",
    "            imgflag = 0\n",
    "            imgcnt = 0           \n",
    "            # check if hw has images in db (mwl book)\n",
    "            if imgindb:\n",
    "                for x in imgindb:\n",
    "                    img += '<img src=\"' + x + '\" />'\n",
    "                \n",
    "            # check if hw has images in mwl daily images\n",
    "            for imgname in imglist:\n",
    "                if word == imgname.split('.')[0]: \n",
    "                    imginhw.append(imgcnt) # record the index of items in imglist that match hw\n",
    "                    imgl = imgname.split(';')\n",
    "                    #print imgl\n",
    "                    img += '<img src=\"' + imgl[0] + '\" />'\n",
    "                    imgflag = 1\n",
    "                    if len(imgl) == 2: caption += imgl[1]\n",
    "                    elif len(imgl) == 3: caption += imgl[1] + ';' + imgl[2]\n",
    "                \n",
    "                imgcnt += 1\n",
    "                 \n",
    "            fdict.write(img + \"\\t\")\n",
    "            fdict.write(caption + \"\\t\")\n",
    "\n",
    "            # Anki tags\n",
    "            if imgflag == 1: tags += \" imgmwlD\" # images from mwl daily images\n",
    "            fdict.write(tags + \"\\n\")\n",
    "            \n",
    "            cnt += 1\n",
    "    \n",
    "fdict.close()\n",
    "print \"total head words: \", totalhw\n",
    "\n",
    "\n",
    "# fd = codecs.open('E:\\\\1Now\\\\mae\\\\imgNameInHw.txt', 'w', 'utf-8')\n",
    "# for i in range(0, len(imglist)):\n",
    "#     if i not in imginhw: print imglist[i]\n",
    "#     else: fd.write(imglist[i] + '\\n')\n",
    "# fd.close()  \n",
    "    \n",
    "\n",
    "\n"
   ]
  },
  {
   "cell_type": "code",
   "execution_count": 14,
   "metadata": {
    "collapsed": false
   },
   "outputs": [
    {
     "name": "stdout",
     "output_type": "stream",
     "text": [
      "164  words\n"
     ]
    }
   ],
   "source": [
    "# create an Anki import file with only hw not empty for a word list\n",
    "# \n",
    "import codecs\n",
    "\n",
    "fout = codecs.open('E:\\\\1Now\\\\mae\\\\3fields1tag4sPlayAnki.txt', 'w', 'utf-8')\n",
    "\n",
    "with codecs.open('E:\\\\1Now\\\\mae\\\\tgnotinmwaled.txt', 'r', 'utf-8') as f:\n",
    "    lines = f.read().splitlines()\n",
    "    f.close()\n",
    "cnt = 0\n",
    "for line in lines:\n",
    "    if not line: continue\n",
    "    # 9 fields with tags: PlaySent,def,Wow,prn,hw,audio,footnote,img,caption   tags\n",
    "    # first field must not be empty, so use hw to hold the position\n",
    "    # PlaySent, hw, audio, tags not empty\n",
    "    anote = line + '\\t \\t \\t \\t' + line+'\\t' + '[sound:'+line+'.wav]\\t' + ' \\t \\t \\tnotinmwaled tg'\n",
    "    #print anote\n",
    "    fout.write(anote + '\\n')\n",
    "    cnt += 1\n",
    "print cnt, ' words'    \n",
    "fout.close()    \n",
    "    "
   ]
  },
  {
   "cell_type": "code",
   "execution_count": 5,
   "metadata": {
    "collapsed": false
   },
   "outputs": [
    {
     "name": "stdout",
     "output_type": "stream",
     "text": [
      "1\n",
      "2\n",
      "3\n"
     ]
    }
   ],
   "source": [
    "a = [1,2,3]\n",
    "for i in range(0, len(a)):\n",
    "    print a[i]"
   ]
  },
  {
   "cell_type": "code",
   "execution_count": 2,
   "metadata": {
    "collapsed": false
   },
   "outputs": [
    {
     "name": "stdout",
     "output_type": "stream",
     "text": [
      "708\n"
     ]
    }
   ],
   "source": [
    "# this snippets of codes organize images list to a unique sorted list\n",
    "# first add new items in imglistraw.txt, the snippets will create imglist.txt which will be used in codes above.\n",
    "\n",
    "import codecs\n",
    "\n",
    "fimg = codecs.open('E:\\\\1Now\\\\mae\\\\4Anki_imgNameCaption.txt', 'w', 'utf-8')\n",
    "\n",
    "with codecs.open('E:\\\\1Now\\\\mae\\\\4Anki_imgNameCaptionraw.txt', 'r', 'utf-8') as f:\n",
    "    lines = f.read().splitlines()\n",
    "    f.close()\n",
    "\n",
    "cnt = 0    \n",
    "# unique, insensitive case sort\n",
    "uImgs = sorted(set(lines), key=lambda s: s.lower())\n",
    "\n",
    "for img in uImgs:  \n",
    "    fimg.write(img + '\\n')\n",
    "    cnt += 1\n",
    "    #print cnt, ': ', img\n",
    "print cnt\n",
    "fimg.close()\n"
   ]
  },
  {
   "cell_type": "code",
   "execution_count": 11,
   "metadata": {
    "collapsed": false
   },
   "outputs": [
    {
     "data": {
      "text/plain": [
       "[2, 3, 4, 5]"
      ]
     },
     "execution_count": 11,
     "metadata": {},
     "output_type": "execute_result"
    }
   ],
   "source": [
    "a = [1, 2, 3, 4, 5]\n",
    "a[1:]"
   ]
  },
  {
   "cell_type": "code",
   "execution_count": null,
   "metadata": {
    "collapsed": true
   },
   "outputs": [],
   "source": []
  },
  {
   "cell_type": "code",
   "execution_count": 6,
   "metadata": {
    "collapsed": false
   },
   "outputs": [
    {
     "name": "stdout",
     "output_type": "stream",
     "text": [
      "abc\n",
      "u0x99999\n",
      "abc\n",
      "u0x99999\n"
     ]
    }
   ],
   "source": [
    "word=\"abc\\nu0x99999\"\n",
    "print word\n",
    "print word.encode('ascii', 'ignore')"
   ]
  },
  {
   "cell_type": "code",
   "execution_count": 2,
   "metadata": {
    "collapsed": false
   },
   "outputs": [
    {
     "name": "stdout",
     "output_type": "stream",
     "text": [
      "we ___ oursleves to the weather\n"
     ]
    }
   ],
   "source": [
    "tstr=\"we adjust oursleves to the weather\"\n",
    "print tstr.replace(\"adjust\", \"___\")"
   ]
  },
  {
   "cell_type": "code",
   "execution_count": 25,
   "metadata": {
    "collapsed": false
   },
   "outputs": [
    {
     "name": "stdout",
     "output_type": "stream",
     "text": [
      "You mean he lied to us? ___!\n",
      "You mean he lied to us? Bingo!\n"
     ]
    }
   ],
   "source": [
    "sPlay = \"You mean he lied to us? Bingo!\"\n",
    "repl = \"bingo\"\n",
    "resub = re.compile(re.escape(repl), re.IGNORECASE)\n",
    "print resub.sub(\"___\", sPlay) # sPlay doesn't change\n",
    "print sPlay"
   ]
  },
  {
   "cell_type": "code",
   "execution_count": 5,
   "metadata": {
    "collapsed": false
   },
   "outputs": [
    {
     "name": "stdout",
     "output_type": "stream",
     "text": [
      "[u'aardvark.gif', u'abacus.gif', u'abscissa.gif', u'accordion.gif', u'airplane.gif']\n",
      "[u'aardvark.gif\\n', u'abacus.gif\\n', u'abscissa.gif\\n', u'accordion.gif\\n', u'airplane.gif\\n']\n"
     ]
    }
   ],
   "source": [
    "with codecs.open('anki\\\\imagelist.txt', 'r', 'utf-8') as f:\n",
    "    imglist1 = f.read().splitlines() # strip '\\n'\n",
    "with codecs.open('anki\\\\imagelist.txt', 'r', 'utf-8') as f:    \n",
    "    imglist2 = f.readlines() # include '\\n'\n",
    "\n",
    "print imglist1[0:5]\n",
    "print imglist2[0:5]\n"
   ]
  },
  {
   "cell_type": "code",
   "execution_count": 9,
   "metadata": {
    "collapsed": false
   },
   "outputs": [
    {
     "name": "stdout",
     "output_type": "stream",
     "text": [
      "not in the list\n",
      "yeah, it is  f2.gif\n",
      "not in the list\n"
     ]
    }
   ],
   "source": [
    "tl = ['f1.jpg','f2.gif', 'f3.png']\n",
    "word = 'f2'\n",
    "for tt in tl:\n",
    "    if word == tt.split('.')[0]: print 'yeah, it is ', tt\n",
    "    else: print 'not in the list'"
   ]
  },
  {
   "cell_type": "code",
   "execution_count": 12,
   "metadata": {
    "collapsed": false
   },
   "outputs": [
    {
     "name": "stdout",
     "output_type": "stream",
     "text": [
      "f1.jpg: image!\n",
      "f2.gif: image!\n",
      "f3.png: image!\n",
      "['f1.jpg', 'f2.gif', 'f3.png']\n"
     ]
    }
   ],
   "source": [
    "tl = ['f1.jpg','f2.gif', 'f3.png']\n",
    "for tt in tl:\n",
    "    tt += ': image!' # don't change tl\n",
    "    print tt\n",
    "print tl"
   ]
  },
  {
   "cell_type": "code",
   "execution_count": 6,
   "metadata": {
    "collapsed": false,
    "scrolled": true
   },
   "outputs": [
    {
     "name": "stdout",
     "output_type": "stream",
     "text": [
      "set up [phrasal verb]\n",
      "1 : to prepare for something by putting things where they need to be We have one hour left to set up for the party. We had better start setting up.\n",
      "2 set up (something) or set (something) up\n",
      "2 a : to create or establish (something) for a particular purpose A panel needs to be set up to investigate the issue. She hopes that in a few years she can set up a private practice of her own. A foundation was set up for people with the disease. The church set up a school for the city's homeless children. The hikers set up camp [=they prepared an area where they could sleep outside] just before sunset.\n",
      "2 b : to arrange and plan (an event or activity) I'll ask my secretary to set up a meeting with our clients. Let's set up a time to get together. He was the one who set up the bank robbery.\n",
      "2 c : to put (something) in an upright position They set up flags along the street for the parade. Help me set the tent up.\n",
      "2 d : to make (a machine, system, etc.) ready to be used They set up the movie camera next to the door. This computer wasn't set up to run so many programs at one time.\n",
      "3 set (someone) up or set up (someone)\n",
      "3 a : to cause (someone) to be in a bad situation or to appear guilty Those aren't his drugs. Someone must have set him up! [=framed him; made it look like the drugs were his] He claimed he was set up by the police.\n",
      "3 b Brit : to help (someone) feel healthy and full of energy She says that daily exercise has set her up to face the challenges of getting old.\n",
      "3 c : to give (someone) a job, a place to live, etc. She set me up in a great apartment in the city. He set his son up with a job at his company.\n",
      "3 d : to do something that makes it likely or possible for (someone) to do, get, or experience something The team's excellent defense set them up to score the winning touchdown. usually + for I think you're just setting yourself up for a big disappointment. [=you're expecting something that won't happen and you will be disappointed when it doesn't]\n",
      "3 e : to cause (someone) to meet someone in order to start a romantic relationship How did you first meet your husband? My best friend set us up. often + with She wants to set him up with her sister.\n",
      "4 set (yourself) up as (something)\n",
      "4 a : to try to make people believe that you are (something) She has set herself up as the best alternative to the current administration. He sets himself up as a defender of the people, but he's really only interested in getting more power.\n",
      "4 b also set up as (something) or set up in (something) : to start your own business She set (herself) up as a wedding planner. [=she began working as a wedding planner] He set up in business after finishing college. see also SETUP\n",
      "------\n",
      "*idpv* take up [phrasal verb]\n",
      "1 take up or take up (something) or take (something) up : to begin (something) again : to continue (something) after you or another person stops She took up [=picked up] the story where he left off. He is hoping that he and his ex-girlfriend can take up [=that they can continue their relationship] where they left off.\n",
      "2 take up (something) : to fill (an area, amount of time, etc.) completely or almost completely The new couch takes up half of the room. I don't want to take up too much of your time, but I do have a few questions. The entire day was taken up by/with meetings. We don't use this table for anything. It's just taking up space.\n",
      "3 take up (something) or take (something) up\n",
      "3 a : to begin studying or practicing (an activity, subject, instrument, etc.) usually as a hobby I was thinking about taking up skiing/dancing/photography. She took up the guitar at age\n",
      "11. taking up art lessons\n",
      "3 b : to begin to deal with (a problem, an issue, etc.) The cause of global warming has been taken up by many celebrities recently. The court took up the question of how to deal with companies that break the law. He seemed willing to take up [=take on] the challenge.\n",
      "3 c : to begin to have (a new job, home, etc.) He will take up his post [=begin working at his new post/job] at the beginning of the year. She went to France and took up residence in Paris. [=became a resident of Paris; began living in Paris] She took up [=she began to lead] the life of an artist. = She took up life as an artist. Two men with guns had taken up (their) positions on the roof.\n",
      "3 d somewhat old-fashioned : to begin to use (something) They took up hammers and nails and went to work building the house. Once again, they took up arms [=picked up weapons and became ready to fight] to defend their country.\n",
      "3 e : to make (something, such as a piece of clothing) shorter Can you take the legs of these pants up two inches?\n",
      "3 f : to lift and remove (something) We took up the carpet in the living room and replaced it with hardwood flooring.\n",
      "3 g : to gather (money, clothes, etc.) from many different people or places They are taking up a collection for the homeless shelter.\n",
      "4 take (someone) up on (something) : to make an agreement with (someone) to accept (an offer) Can I buy you a drink? Sure, I'll take you up on that. We took the company up on its offer to replace the computer for free.\n",
      "5 take (something) up with (someone) : to talk about (something, such as a problem) with (someone) If you have a problem, please take it up with one of our managers. Have you taken this up with your mother yet?\n",
      "6 take up with (someone) : to begin a friendly or romantic relationship with (someone) After her divorce, she took up with a younger man. see also TAKE-UP\n"
     ]
    }
   ],
   "source": [
    "import re\n",
    "\n",
    "idpv1 =\"set up [phrasal verb] 1 : to prepare for something by putting things where they need to be We have one hour left to set up for the party. We had better start setting up. 2 set up (something) or set (something) up 2 a : to create or establish (something) for a particular purpose A panel needs to be set up to investigate the issue. She hopes that in a few years she can set up a private practice of her own. A foundation was set up for people with the disease. The church set up a school for the city's homeless children. The hikers set up camp [=they prepared an area where they could sleep outside] just before sunset. 2 b : to arrange and plan (an event or activity) I'll ask my secretary to set up a meeting with our clients. Let's set up a time to get together. He was the one who set up the bank robbery. 2 c : to put (something) in an upright position They set up flags along the street for the parade. Help me set the tent up. 2 d : to make (a machine, system, etc.) ready to be used They set up the movie camera next to the door. This computer wasn't set up to run so many programs at one time. 3 set (someone) up or set up (someone) 3 a : to cause (someone) to be in a bad situation or to appear guilty Those aren't his drugs. Someone must have set him up! [=framed him; made it look like the drugs were his] He claimed he was set up by the police. 3 b Brit : to help (someone) feel healthy and full of energy She says that daily exercise has set her up to face the challenges of getting old. 3 c : to give (someone) a job, a place to live, etc. She set me up in a great apartment in the city. He set his son up with a job at his company. 3 d : to do something that makes it likely or possible for (someone) to do, get, or experience something The team's excellent defense set them up to score the winning touchdown. usually + for I think you're just setting yourself up for a big disappointment. [=you're expecting something that won't happen and you will be disappointed when it doesn't] 3 e : to cause (someone) to meet someone in order to start a romantic relationship How did you first meet your husband? My best friend set us up. often + with She wants to set him up with her sister. 4 set (yourself) up as (something) 4 a : to try to make people believe that you are (something) She has set herself up as the best alternative to the current administration. He sets himself up as a defender of the people, but he's really only interested in getting more power. 4 b also set up as (something) or set up in (something) : to start your own business She set (herself) up as a wedding planner. [=she began working as a wedding planner] He set up in business after finishing college. see also SETUP\"\n",
    "idpv2 =\"*idpv* take up [phrasal verb] 1 take up or take up (something) or take (something) up : to begin (something) again : to continue (something) after you or another person stops She took up [=picked up] the story where he left off. He is hoping that he and his ex-girlfriend can take up [=that they can continue their relationship] where they left off. 2 take up (something) : to fill (an area, amount of time, etc.) completely or almost completely The new couch takes up half of the room. I don't want to take up too much of your time, but I do have a few questions. The entire day was taken up by/with meetings. We don't use this table for anything. It's just taking up space. 3 take up (something) or take (something) up 3 a : to begin studying or practicing (an activity, subject, instrument, etc.) usually as a hobby I was thinking about taking up skiing/dancing/photography. She took up the guitar at age 11. taking up art lessons 3 b : to begin to deal with (a problem, an issue, etc.) The cause of global warming has been taken up by many celebrities recently. The court took up the question of how to deal with companies that break the law. He seemed willing to take up [=take on] the challenge. 3 c : to begin to have (a new job, home, etc.) He will take up his post [=begin working at his new post/job] at the beginning of the year. She went to France and took up residence in Paris. [=became a resident of Paris; began living in Paris] She took up [=she began to lead] the life of an artist. = She took up life as an artist. Two men with guns had taken up (their) positions on the roof. 3 d somewhat old-fashioned : to begin to use (something) They took up hammers and nails and went to work building the house. Once again, they took up arms [=picked up weapons and became ready to fight] to defend their country. 3 e : to make (something, such as a piece of clothing) shorter Can you take the legs of these pants up two inches? 3 f : to lift and remove (something) We took up the carpet in the living room and replaced it with hardwood flooring. 3 g : to gather (money, clothes, etc.) from many different people or places They are taking up a collection for the homeless shelter. 4 take (someone) up on (something) : to make an agreement with (someone) to accept (an offer) Can I buy you a drink? Sure, I'll take you up on that. We took the company up on its offer to replace the computer for free. 5 take (something) up with (someone) : to talk about (something, such as a problem) with (someone) If you have a problem, please take it up with one of our managers. Have you taken this up with your mother yet? 6 take up with (someone) : to begin a friendly or romantic relationship with (someone) After her divorce, she took up with a younger man. see also TAKE-UP\"\n",
    "\n",
    "idpv1 = re.sub(r'\\s+(?=\\d)', '\\n', idpv1)\n",
    "print idpv1\n",
    "print '------'\n",
    "tt2 = re.sub(r'\\s+(?=\\d)', '\\n', idpv2)\n",
    "print tt2"
   ]
  },
  {
   "cell_type": "code",
   "execution_count": null,
   "metadata": {
    "collapsed": true
   },
   "outputs": [],
   "source": []
  }
 ],
 "metadata": {
  "kernelspec": {
   "display_name": "Python 2",
   "language": "python",
   "name": "python2"
  },
  "language_info": {
   "codemirror_mode": {
    "name": "ipython",
    "version": 2
   },
   "file_extension": ".py",
   "mimetype": "text/x-python",
   "name": "python",
   "nbconvert_exporter": "python",
   "pygments_lexer": "ipython2",
   "version": "2.7.10"
  }
 },
 "nbformat": 4,
 "nbformat_minor": 0
}
