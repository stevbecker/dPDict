{
 "cells": [
  {
   "cell_type": "code",
   "execution_count": 14,
   "metadata": {
    "collapsed": false
   },
   "outputs": [
    {
     "name": "stdout",
     "output_type": "stream",
     "text": [
      "administrate  ... not in mwaled\n",
      "afterwards  ... not in mwaled\n",
      "analyse  ... not in mwaled\n",
      "annoying  ... not in mwaled\n",
      "annually  ... not in mwaled\n",
      "because of  ... not in mwaled\n",
      "biologist  ... not in mwaled\n",
      "borrower  ... not in mwaled\n",
      "capably  ... not in mwaled\n",
      "close to  ... not in mwaled\n",
      "consequently  ... not in mwaled\n",
      "considerably  ... not in mwaled\n",
      "constantly  ... not in mwaled\n",
      "contamination  ... not in mwaled\n",
      "continually  ... not in mwaled\n",
      "continuously  ... not in mwaled\n",
      "criteria  ... not in mwaled\n",
      "customs  ... not in mwaled\n",
      "cyclist  ... not in mwaled\n",
      "damages  ... not in mwaled\n",
      "dietician  ... not in mwaled\n",
      "dismissal  ... not in mwaled\n",
      "disrespectful  ... not in mwaled\n",
      "doubles  ... not in mwaled\n",
      "earlier  ... not in mwaled\n",
      "elasticity  ... not in mwaled\n",
      "exaggeration  ... not in mwaled\n",
      "exclusion  ... not in mwaled\n",
      "extroverted  ... not in mwaled\n",
      "for example  ... not in mwaled\n",
      "frequently  ... not in mwaled\n",
      "geographer  ... not in mwaled\n",
      "geographic  ... not in mwaled\n",
      "had better  ... not in mwaled\n",
      "half time  ... not in mwaled\n",
      "have to  ... not in mwaled\n",
      "hundredth  ... not in mwaled\n",
      "immorality  ... not in mwaled\n",
      "impatience  ... not in mwaled\n",
      "in fact  ... not in mwaled\n",
      "infrequently  ... not in mwaled\n",
      "instead of  ... not in mwaled\n",
      "introverted  ... not in mwaled\n",
      "inventor  ... not in mwaled\n",
      "labour  ... not in mwaled\n",
      "licence  ... not in mwaled\n",
      "loneliness  ... not in mwaled\n",
      "maximise  ... not in mwaled\n",
      "mediation  ... not in mwaled\n",
      "minimise  ... not in mwaled\n",
      "normally  ... not in mwaled\n",
      "notes  ... not in mwaled\n",
      "oceanic  ... not in mwaled\n",
      "on top of  ... not in mwaled\n",
      "out of  ... not in mwaled\n",
      "previously  ... not in mwaled\n",
      "regional  ... not in mwaled\n",
      "reluctance  ... not in mwaled\n",
      "sadness  ... not in mwaled\n",
      "savings  ... not in mwaled\n",
      "semi-annually  ... not in mwaled\n",
      "severity  ... not in mwaled\n",
      "singles  ... not in mwaled\n",
      "sportmanship  ... not in mwaled\n",
      "subjection  ... not in mwaled\n",
      "that is  ... not in mwaled\n",
      "troubleshoot  ... not in mwaled\n",
      "unhappiness  ... not in mwaled\n",
      "utilise  ... not in mwaled\n",
      "website  ... not in mwaled\n",
      "3787 ... 70\n"
     ]
    }
   ],
   "source": [
    "import codecs\n",
    "\n",
    "with codecs.open(\"E:\\\\1Now\\\\taglist\\\\compare\\\\main.txt\", 'r', 'utf-8') as f:\n",
    "    mains = f.read().splitlines()\n",
    "\n",
    "with codecs.open(\"E:\\\\1Now\\\\taglist\\\\compare\\\\coreTotal.txt\", 'r', 'utf-8') as f:\n",
    "    core4s = f.read().splitlines()\n",
    "    \n",
    "core4s = sorted(set(core4s)) \n",
    "fawl = codecs.open(\"E:\\\\1Now\\\\taglist\\\\compare\\\\coreNew.txt\", 'w', 'utf-8')\n",
    "\n",
    "cnt1 = 0\n",
    "cnt2 = 0\n",
    "for core4 in core4s:\n",
    "    if core4 in mains:\n",
    "        fawl.write(core4 + '\\n')\n",
    "        cnt1 += 1\n",
    "    else:\n",
    "        cnt2 += 1\n",
    "        print core4, ' ... not in mwaled'\n",
    "    #word = line.split('\\t')[0]\n",
    "print cnt1, '...', cnt2\n",
    "    \n",
    "    \n",
    "fawl.close()    \n"
   ]
  },
  {
   "cell_type": "code",
   "execution_count": null,
   "metadata": {
    "collapsed": true
   },
   "outputs": [],
   "source": []
  }
 ],
 "metadata": {
  "kernelspec": {
   "display_name": "Python 2",
   "language": "python",
   "name": "python2"
  },
  "language_info": {
   "codemirror_mode": {
    "name": "ipython",
    "version": 2
   },
   "file_extension": ".py",
   "mimetype": "text/x-python",
   "name": "python",
   "nbconvert_exporter": "python",
   "pygments_lexer": "ipython2",
   "version": "2.7.10"
  }
 },
 "nbformat": 4,
 "nbformat_minor": 0
}
