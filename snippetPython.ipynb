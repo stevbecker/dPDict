{
 "cells": [
  {
   "cell_type": "code",
   "execution_count": 3,
   "metadata": {
    "collapsed": false
   },
   "outputs": [
    {
     "name": "stdout",
     "output_type": "stream",
     "text": [
      "r w\n"
     ]
    }
   ],
   "source": [
    "print 'run'[0].lower(), 'Walk'[0].lower()"
   ]
  },
  {
   "cell_type": "code",
   "execution_count": 8,
   "metadata": {
    "collapsed": false
   },
   "outputs": [
    {
     "name": "stdout",
     "output_type": "stream",
     "text": [
      "{1: 'x1', 2: 'x3'} 2\n"
     ]
    }
   ],
   "source": [
    "# in dictionary, no duplicate key is allowed. When duplicate keys encountered during assignment, the last assignment wins\n",
    "a = {1:'x1', 2:'x2', 2:'x3'}\n",
    "print a, len(a)"
   ]
  },
  {
   "cell_type": "code",
   "execution_count": 4,
   "metadata": {
    "collapsed": false
   },
   "outputs": [
    {
     "name": "stdout",
     "output_type": "stream",
     "text": [
      "1;these\n",
      "2;those\n",
      "<type 'str'> 2\n",
      "b==\"2\"\n"
     ]
    }
   ],
   "source": [
    "a = '1;these'\n",
    "print a\n",
    "a = '2;those'\n",
    "print a\n",
    "\n",
    "b = a.split(';')[0]\n",
    "print type(b), b\n",
    "if b == 2: print 'b==2'\n",
    "elif b == '2': print 'b==\"2\"'"
   ]
  },
  {
   "cell_type": "code",
   "execution_count": 2,
   "metadata": {
    "collapsed": false
   },
   "outputs": [
    {
     "name": "stdout",
     "output_type": "stream",
     "text": [
      "3\n",
      "[1, 22, 3]\n"
     ]
    }
   ],
   "source": [
    "a = [1, 2, 3]\n",
    "print a[-1] # the last element of the list\n",
    "a[-2] = 22\n",
    "print a"
   ]
  },
  {
   "cell_type": "code",
   "execution_count": 16,
   "metadata": {
    "collapsed": false
   },
   "outputs": [
    {
     "name": "stdout",
     "output_type": "stream",
     "text": [
      "[3, 2, 1] [3, 2, 1]\n",
      "[3, 2, 1, 4] [3, 2, 1, 4]\n",
      "[3, 2, 1, 4, 5] [3, 2, 1, 4, 5]\n",
      "[1, 2, 3, 4, 5] [3, 2, 1, 4, 5]\n",
      "[1, 2, 3, 4, 5] [3, 2, 1, 4, 5, 6]\n",
      "[1, 2, 3, 4, 5, 7] [3, 2, 1, 4, 5, 6]\n"
     ]
    }
   ],
   "source": [
    "# list copy\n",
    "a = [3, 2, 1]\n",
    "b = a\n",
    "print a, b\n",
    "\n",
    "b.append(4)\n",
    "print a, b\n",
    "\n",
    "a.append(5)\n",
    "print a, b\n",
    "\n",
    "a = sorted(a) # this will unrelate a with b\n",
    "print a, b\n",
    "\n",
    "b.append(6)\n",
    "print a, b\n",
    "\n",
    "a.append(7)\n",
    "print a, b\n"
   ]
  },
  {
   "cell_type": "code",
   "execution_count": 21,
   "metadata": {
    "collapsed": false
   },
   "outputs": [
    {
     "name": "stdout",
     "output_type": "stream",
     "text": [
      "{1: [1, 2, 3]} {1: [1, 2, 3]}\n",
      "{1: [1, 2, 3, 4]} {1: [1, 2, 3, 4]}\n",
      "{1: [1, 2, 3, 4, 5]} {1: [1, 2, 3, 4, 5]}\n"
     ]
    }
   ],
   "source": [
    "# dictionary copy, shallow copy, deep copy\n",
    "# http://stackoverflow.com/questions/3975376/understanding-dict-copy-shallow-or-deep\n",
    "\n",
    "a = {1: [1, 2, 3]}\n",
    "b = a #copy\n",
    "print a, b\n",
    "\n",
    "a[1].append(4)\n",
    "print a, b\n",
    "\n",
    "b[1].append(5)\n",
    "print a, b\n"
   ]
  },
  {
   "cell_type": "code",
   "execution_count": 23,
   "metadata": {
    "collapsed": false
   },
   "outputs": [
    {
     "name": "stdout",
     "output_type": "stream",
     "text": [
      "{1: [1, 2, 3]} {1: [1, 2, 3]}\n",
      "{1: [1, 2, 3, 4]} {1: [1, 2, 3, 4]}\n",
      "{1: [1, 2, 3, 4, 5]} {1: [1, 2, 3, 4, 5]}\n"
     ]
    }
   ],
   "source": [
    "# dictionary copy, shallow copy, deep copy\n",
    "# http://stackoverflow.com/questions/3975376/understanding-dict-copy-shallow-or-deep\n",
    "\n",
    "a = {1: [1, 2, 3]}\n",
    "b = a.copy() # shallow copy\n",
    "print a, b\n",
    "\n",
    "a[1].append(4)\n",
    "print a, b\n",
    "\n",
    "b[1].append(5)\n",
    "print a, b\n"
   ]
  },
  {
   "cell_type": "code",
   "execution_count": 25,
   "metadata": {
    "collapsed": false
   },
   "outputs": [
    {
     "name": "stdout",
     "output_type": "stream",
     "text": [
      "{1: [1, 2, 3]} {1: [1, 2, 3]}\n",
      "{1: [1, 2, 3, 4]} {1: [1, 2, 3]}\n",
      "{1: [1, 2, 3, 4]} {1: [1, 2, 3, 5]}\n"
     ]
    }
   ],
   "source": [
    "# dictionary copy, shallow copy, deep copy\n",
    "# http://stackoverflow.com/questions/3975376/understanding-dict-copy-shallow-or-deep\n",
    "\n",
    "import copy\n",
    "\n",
    "a = {1: [1, 2, 3]}\n",
    "b = copy.deepcopy(a) # deep copy\n",
    "print a, b\n",
    "\n",
    "a[1].append(4)\n",
    "print a, b\n",
    "\n",
    "b[1].append(5)\n",
    "print a, b\n"
   ]
  },
  {
   "cell_type": "code",
   "execution_count": 26,
   "metadata": {
    "collapsed": false
   },
   "outputs": [
    {
     "name": "stdout",
     "output_type": "stream",
     "text": [
      "3fields1tag4sPlayAnki.txt\n",
      "4Anki_chocolateword.txt\n",
      "mwlDailyImgNotHw33_20151205.txt\n",
      "peteAnki.txt\n",
      "sentencePlayAnki.txt\n",
      "soundJourneyAnki.txt\n"
     ]
    }
   ],
   "source": [
    "import os\n",
    "from os import listdir\n",
    "from os.path import isfile, join\n",
    "\n",
    "wlpath = \"E:\\\\1Now\\\\mae\\\\\"\n",
    "for wlname in os.listdir(wlpath):\n",
    "    if isfile(join(wlpath, wlname)):\n",
    "        print wlname\n",
    "    else: continue\n",
    "    \n"
   ]
  },
  {
   "cell_type": "code",
   "execution_count": 9,
   "metadata": {
    "collapsed": false
   },
   "outputs": [
    {
     "name": "stdout",
     "output_type": "stream",
     "text": [
      "['AWOL', 'Walk', 'about']\n",
      "['about', 'AWOL', 'Walk']\n"
     ]
    }
   ],
   "source": [
    "a = ['AWOL', 'about', 'Walk']\n",
    "print sorted(a)\n",
    "\n",
    "# unique, insensitive case sort\n",
    "print sorted(set(a), key=lambda s: s.lower())\n"
   ]
  },
  {
   "cell_type": "code",
   "execution_count": null,
   "metadata": {
    "collapsed": true
   },
   "outputs": [],
   "source": [
    "a = [1,2,3]\n",
    "for i in range(0, len(a)):\n",
    "    print a[i]"
   ]
  },
  {
   "cell_type": "code",
   "execution_count": null,
   "metadata": {
    "collapsed": true
   },
   "outputs": [],
   "source": [
    "aword = 'abcd'\n",
    "if \" \" not in aword: print \"no space\"\n",
    "else: print 'space'"
   ]
  },
  {
   "cell_type": "code",
   "execution_count": null,
   "metadata": {
    "collapsed": true
   },
   "outputs": [],
   "source": [
    "al = [1]\n",
    "if al: print 'not empty list'\n",
    "else: print 'empty list'"
   ]
  },
  {
   "cell_type": "code",
   "execution_count": 4,
   "metadata": {
    "collapsed": false
   },
   "outputs": [
    {
     "data": {
      "text/plain": [
       "('E:\\\\temp\\\\test.jpg', <httplib.HTTPMessage instance at 0x0000000003F70788>)"
      ]
     },
     "execution_count": 4,
     "metadata": {},
     "output_type": "execute_result"
    }
   ],
   "source": [
    "import urllib\n",
    "import urllib2\n",
    "#from bs4 import BeautifulSoup\n",
    "\n",
    "response = urllib2.urlopen('http://www.learnersdictionary.com/word-of-the-day/archives')\n",
    "html = response.read()\n",
    "# print html\n",
    "\n",
    "imgurl = 'http://www.learnersdictionary.com/media/ld/word_of_the_day/images/2695/large.jpg'\n",
    "urllib.urlretrieve(imgurl, \"E:\\\\temp\\\\test.jpg\")\n"
   ]
  },
  {
   "cell_type": "code",
   "execution_count": 5,
   "metadata": {
    "collapsed": false
   },
   "outputs": [
    {
     "name": "stdout",
     "output_type": "stream",
     "text": [
      "  \t a string example\t  \n",
      "a string example\n"
     ]
    }
   ],
   "source": [
    "s = \"  \\t a string example\\t  \"\n",
    "print s\n",
    "s = s.strip()\n",
    "print s"
   ]
  },
  {
   "cell_type": "code",
   "execution_count": null,
   "metadata": {
    "collapsed": true
   },
   "outputs": [],
   "source": [
    "a = {'k1': 'v1', 'k1':'v2'}\n",
    "print a['k1']"
   ]
  },
  {
   "cell_type": "code",
   "execution_count": null,
   "metadata": {
    "collapsed": true
   },
   "outputs": [],
   "source": [
    "import string\n",
    "print 'walk'.capitalize() # Walk is good\n",
    "print 'AWOL'.capitalize() # not good because Awol isn't a word\n",
    "print '-ness'.capitalize()\n",
    "print 'February'.capitalize()\n",
    "al = string.lowercase[0:26]\n",
    "print type(al)\n",
    "# for x in al: print x\n",
    "print 'Tuesday'[0] in al"
   ]
  },
  {
   "cell_type": "code",
   "execution_count": null,
   "metadata": {
    "collapsed": true
   },
   "outputs": [],
   "source": [
    "import string\n",
    "print string.uppercase[0:26]"
   ]
  },
  {
   "cell_type": "code",
   "execution_count": null,
   "metadata": {
    "collapsed": true
   },
   "outputs": [],
   "source": [
    "# get duplicates\n",
    "l = [1,2,3,4,4,5,5,6,1]\n",
    "set([x for x in l if l.count(x) > 1])"
   ]
  },
  {
   "cell_type": "code",
   "execution_count": null,
   "metadata": {
    "collapsed": true
   },
   "outputs": [],
   "source": [
    "import codecs\n",
    "# is it necessary to close file in with statement?\n",
    "with codecs.open('E:\\\\temp\\\\with.txt', 'w', 'utf-8') as f:\n",
    "    f.write('hi')\n",
    "    f.close() # no need, it'll be closed automatically\n",
    "# f.write('hello') # f has been closed automatically\n",
    "# f.close()"
   ]
  },
  {
   "cell_type": "code",
   "execution_count": null,
   "metadata": {
    "collapsed": true
   },
   "outputs": [],
   "source": [
    "lk = []\n",
    "lk.append(1)\n",
    "lk\n",
    "lk.append(2)\n",
    "lk"
   ]
  },
  {
   "cell_type": "code",
   "execution_count": null,
   "metadata": {
    "collapsed": true
   },
   "outputs": [],
   "source": [
    "def gethw():\n",
    "    a = [{'k1': 'hello', 'k2':'hello2'}, {'k1': 'hi', 'k2':'hi2'}]\n",
    "    return a\n",
    "b = gethw()\n",
    "for x in b:\n",
    "    print x['k1'], '...', x['k2']"
   ]
  },
  {
   "cell_type": "code",
   "execution_count": null,
   "metadata": {
    "collapsed": true
   },
   "outputs": [],
   "source": [
    "print \"thEy're café\".title()\n",
    "print \"thEy're café\".capitalize()"
   ]
  },
  {
   "cell_type": "code",
   "execution_count": 7,
   "metadata": {
    "collapsed": false
   },
   "outputs": [
    {
     "name": "stdout",
     "output_type": "stream",
     "text": [
      "joy and café surprise nbsp br  And as I was   surprise And that\n",
      "é\n",
      "café...laid-back...code...that's...tag...\n",
      "caf�...laid-back...code...that's...tag...\n",
      "caf...laid-back...code...that's...tag...\n",
      "caf------laid---back---------code---that---s------tag---\n"
     ]
    }
   ],
   "source": [
    "import re\n",
    "\n",
    "a = \"joy and café surprise.&nbsp;<br />And as I was ... surprise.And that\"\n",
    "print re.sub(r'[\\<\\>\\/\\&\\.\\;]+', ' ', a)\n",
    "print u'é'\n",
    "\n",
    "b = u\"café laid-back, <code>that's</tag>\" # u -- unicode \n",
    "c = \"café laid-back, <code>that's</tag>\"\n",
    "\n",
    "xx = re.compile(r'[^\\w\\'\\-]+', re.U)\n",
    "print xx.sub('...', b) # work\n",
    "print xx.sub('...', c) # doesn't work\n",
    "\n",
    "print re.sub(r'[^A-Za-z\\'\\-]+', '...', b)\n",
    "print re.sub(r'[^\\w+]', '---', b, re.U) # why this one doesn't work?"
   ]
  },
  {
   "cell_type": "code",
   "execution_count": null,
   "metadata": {
    "collapsed": true
   },
   "outputs": [],
   "source": [
    "a = [1, 2, 3, 4, 5]\n",
    "a[1:]"
   ]
  },
  {
   "cell_type": "code",
   "execution_count": null,
   "metadata": {
    "collapsed": true
   },
   "outputs": [],
   "source": [
    "word=\"abc\\nu0x99999\"\n",
    "print word\n",
    "print word.encode('ascii', 'ignore')"
   ]
  },
  {
   "cell_type": "code",
   "execution_count": null,
   "metadata": {
    "collapsed": true
   },
   "outputs": [],
   "source": [
    "tstr=\"we adjust oursleves to the weather\"\n",
    "print tstr.replace(\"adjust\", \"___\")"
   ]
  },
  {
   "cell_type": "code",
   "execution_count": null,
   "metadata": {
    "collapsed": true
   },
   "outputs": [],
   "source": [
    "sPlay = \"You mean he lied to us? Bingo!\"\n",
    "repl = \"bingo\"\n",
    "resub = re.compile(re.escape(repl), re.IGNORECASE)\n",
    "print resub.sub(\"___\", sPlay) # sPlay doesn't change\n",
    "print sPlay"
   ]
  },
  {
   "cell_type": "code",
   "execution_count": null,
   "metadata": {
    "collapsed": true
   },
   "outputs": [],
   "source": [
    "with codecs.open('anki\\\\imagelist.txt', 'r', 'utf-8') as f:\n",
    "    imglist1 = f.read().splitlines() # strip '\\n'\n",
    "with codecs.open('anki\\\\imagelist.txt', 'r', 'utf-8') as f:    \n",
    "    imglist2 = f.readlines() # include '\\n'\n",
    "\n",
    "print imglist1[0:5]\n",
    "print imglist2[0:5]\n"
   ]
  },
  {
   "cell_type": "code",
   "execution_count": null,
   "metadata": {
    "collapsed": true
   },
   "outputs": [],
   "source": [
    "tl = ['f1.jpg','f2.gif', 'f3.png']\n",
    "word = 'f2'\n",
    "for tt in tl:\n",
    "    if word == tt.split('.')[0]: print 'yeah, it is ', tt\n",
    "    else: print 'not in the list'"
   ]
  },
  {
   "cell_type": "code",
   "execution_count": null,
   "metadata": {
    "collapsed": true
   },
   "outputs": [],
   "source": [
    "tl = ['f1.jpg','f2.gif', 'f3.png']\n",
    "for tt in tl:\n",
    "    tt += ': image!' # don't change tl\n",
    "    print tt\n",
    "print tl"
   ]
  },
  {
   "cell_type": "code",
   "execution_count": null,
   "metadata": {
    "collapsed": true
   },
   "outputs": [],
   "source": [
    "import re\n",
    "\n",
    "idpv1 =\"set up [phrasal verb] 1 : to prepare for something by putting things where they need to be We have one hour left to set up for the party. We had better start setting up. 2 set up (something) or set (something) up 2 a : to create or establish (something) for a particular purpose A panel needs to be set up to investigate the issue. She hopes that in a few years she can set up a private practice of her own. A foundation was set up for people with the disease. The church set up a school for the city's homeless children. The hikers set up camp [=they prepared an area where they could sleep outside] just before sunset. 2 b : to arrange and plan (an event or activity) I'll ask my secretary to set up a meeting with our clients. Let's set up a time to get together. He was the one who set up the bank robbery. 2 c : to put (something) in an upright position They set up flags along the street for the parade. Help me set the tent up. 2 d : to make (a machine, system, etc.) ready to be used They set up the movie camera next to the door. This computer wasn't set up to run so many programs at one time. 3 set (someone) up or set up (someone) 3 a : to cause (someone) to be in a bad situation or to appear guilty Those aren't his drugs. Someone must have set him up! [=framed him; made it look like the drugs were his] He claimed he was set up by the police. 3 b Brit : to help (someone) feel healthy and full of energy She says that daily exercise has set her up to face the challenges of getting old. 3 c : to give (someone) a job, a place to live, etc. She set me up in a great apartment in the city. He set his son up with a job at his company. 3 d : to do something that makes it likely or possible for (someone) to do, get, or experience something The team's excellent defense set them up to score the winning touchdown. usually + for I think you're just setting yourself up for a big disappointment. [=you're expecting something that won't happen and you will be disappointed when it doesn't] 3 e : to cause (someone) to meet someone in order to start a romantic relationship How did you first meet your husband? My best friend set us up. often + with She wants to set him up with her sister. 4 set (yourself) up as (something) 4 a : to try to make people believe that you are (something) She has set herself up as the best alternative to the current administration. He sets himself up as a defender of the people, but he's really only interested in getting more power. 4 b also set up as (something) or set up in (something) : to start your own business She set (herself) up as a wedding planner. [=she began working as a wedding planner] He set up in business after finishing college. see also SETUP\"\n",
    "idpv2 =\"*idpv* take up [phrasal verb] 1 take up or take up (something) or take (something) up : to begin (something) again : to continue (something) after you or another person stops She took up [=picked up] the story where he left off. He is hoping that he and his ex-girlfriend can take up [=that they can continue their relationship] where they left off. 2 take up (something) : to fill (an area, amount of time, etc.) completely or almost completely The new couch takes up half of the room. I don't want to take up too much of your time, but I do have a few questions. The entire day was taken up by/with meetings. We don't use this table for anything. It's just taking up space. 3 take up (something) or take (something) up 3 a : to begin studying or practicing (an activity, subject, instrument, etc.) usually as a hobby I was thinking about taking up skiing/dancing/photography. She took up the guitar at age 11. taking up art lessons 3 b : to begin to deal with (a problem, an issue, etc.) The cause of global warming has been taken up by many celebrities recently. The court took up the question of how to deal with companies that break the law. He seemed willing to take up [=take on] the challenge. 3 c : to begin to have (a new job, home, etc.) He will take up his post [=begin working at his new post/job] at the beginning of the year. She went to France and took up residence in Paris. [=became a resident of Paris; began living in Paris] She took up [=she began to lead] the life of an artist. = She took up life as an artist. Two men with guns had taken up (their) positions on the roof. 3 d somewhat old-fashioned : to begin to use (something) They took up hammers and nails and went to work building the house. Once again, they took up arms [=picked up weapons and became ready to fight] to defend their country. 3 e : to make (something, such as a piece of clothing) shorter Can you take the legs of these pants up two inches? 3 f : to lift and remove (something) We took up the carpet in the living room and replaced it with hardwood flooring. 3 g : to gather (money, clothes, etc.) from many different people or places They are taking up a collection for the homeless shelter. 4 take (someone) up on (something) : to make an agreement with (someone) to accept (an offer) Can I buy you a drink? Sure, I'll take you up on that. We took the company up on its offer to replace the computer for free. 5 take (something) up with (someone) : to talk about (something, such as a problem) with (someone) If you have a problem, please take it up with one of our managers. Have you taken this up with your mother yet? 6 take up with (someone) : to begin a friendly or romantic relationship with (someone) After her divorce, she took up with a younger man. see also TAKE-UP\"\n",
    "\n",
    "idpv1 = re.sub(r'\\s+(?=\\d)', '\\n', idpv1)\n",
    "print idpv1\n",
    "print '------'\n",
    "tt2 = re.sub(r'\\s+(?=\\d)', '\\n', idpv2)\n",
    "print tt2"
   ]
  }
 ],
 "metadata": {
  "kernelspec": {
   "display_name": "Python 2",
   "language": "python",
   "name": "python2"
  },
  "language_info": {
   "codemirror_mode": {
    "name": "ipython",
    "version": 2
   },
   "file_extension": ".py",
   "mimetype": "text/x-python",
   "name": "python",
   "nbconvert_exporter": "python",
   "pygments_lexer": "ipython2",
   "version": "2.7.10"
  }
 },
 "nbformat": 4,
 "nbformat_minor": 0
}
